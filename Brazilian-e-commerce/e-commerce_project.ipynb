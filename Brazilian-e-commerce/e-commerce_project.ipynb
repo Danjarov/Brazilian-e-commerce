{
 "cells": [
  {
   "cell_type": "code",
   "execution_count": 1,
   "id": "d6b64977",
   "metadata": {},
   "outputs": [
    {
     "name": "stdout",
     "output_type": "stream",
     "text": [
      "Warning: Your Kaggle API key is readable by other users on this system! To fix this, you can run 'chmod 600 /Users/Askar/.kaggle/kaggle.json'\n",
      "ref                                                      title                                              size  lastUpdated          downloadCount  voteCount  usabilityRating  \n",
      "-------------------------------------------------------  ------------------------------------------------  -----  -------------------  -------------  ---------  ---------------  \n",
      "olistbr/brazilian-ecommerce                              Brazilian E-Commerce Public Dataset by Olist       43MB  2021-10-01 19:08:27         190194       2743  1.0              \n",
      "olistbr/marketing-funnel-olist                           Marketing Funnel by Olist                         278KB  2018-11-16 14:00:20          11163        260  1.0              \n",
      "jayeshsalunke101/brazilian-ecommerce-public-dataset      Brazilian E-Commerce Public Dataset                43MB  2021-04-22 11:28:00            467          9  0.5882353        \n",
      "nuranugraha/ecommerce-brazilian                          brazilian e commerce                               29MB  2022-07-16 06:06:05              8          1  0.23529412       \n",
      "nuranugraha/brazilian-e-commerce                         brazilian e commerce                               43MB  2022-07-16 06:10:54             11          1  0.23529412       \n",
      "deremmy/brazilian-e-commerce-dashboardpower-bi           Brazilian E-Commerce Dashboard(POWER BI)           52MB  2023-04-18 01:35:40             16          0  0.6875           \n",
      "fredericods/ptbr-sentiment-analysis-datasets             Brazilian Portuguese Sentiment Analysis Datasets  877MB  2021-06-23 00:37:01            613         19  0.4117647        \n",
      "khakim17/brazilian-ecommerce-public-dataset-by-olists    Brazilian E-Commerce Public Dataset by Olists      412B  2019-09-15 17:16:23             47          1  0.11764706       \n",
      "nosbielcs/brazilian-delivery-center                      Delivery Center: Food & Goods orders in Brazil     28MB  2021-07-12 15:54:04           4575         65  1.0              \n",
      "patrickgomes/ecommerce1-dataset                          Ecommerce1 dataset                                  1MB  2023-03-02 15:08:14             20          0  0.88235295       \n",
      "datacertlaboratoria/capstone                             Proyecto 6: Capstone                                1KB  2022-07-13 17:12:33            119          7  1.0              \n",
      "ex0ticone/client-complaints-from-brazilian-companies     Customers Complaints from Brazilian Companies     128MB  2022-12-27 00:53:34             25          0  0.88235295       \n",
      "iris111/brazilianecommerce                               brazilian-ecommerce                                43MB  2022-12-09 12:17:57             19          1  0.23529412       \n",
      "princeanozie/olist-ecommerce-analysis-between-2016-2018  OLIST ECOMMERCE ANALYSIS BETWEEN 2016-2018         93MB  2023-04-12 14:03:12             11          0  0.47058824       \n"
     ]
    }
   ],
   "source": [
    "!kaggle datasets list -s 'Brazilian E-commerce'"
   ]
  },
  {
   "cell_type": "code",
   "execution_count": 4,
   "id": "2d4a0458",
   "metadata": {},
   "outputs": [
    {
     "name": "stdout",
     "output_type": "stream",
     "text": [
      "Warning: Your Kaggle API key is readable by other users on this system! To fix this, you can run 'chmod 600 /Users/Askar/.kaggle/kaggle.json'\n",
      "Downloading brazilian-ecommerce.zip to /Users/Askar/Documents/Karpov/e-commerce проект\n",
      "100%|██████████████████████████████████████| 42.6M/42.6M [00:26<00:00, 2.04MB/s]\n",
      "100%|██████████████████████████████████████| 42.6M/42.6M [00:26<00:00, 1.71MB/s]\n"
     ]
    }
   ],
   "source": [
    "!kaggle datasets download -d 'olistbr/brazilian-ecommerce'"
   ]
  },
  {
   "cell_type": "code",
   "execution_count": 5,
   "id": "ca06eb63",
   "metadata": {},
   "outputs": [
    {
     "name": "stdout",
     "output_type": "stream",
     "text": [
      "Untitled.ipynb          brazilian-ecommerce.zip\r\n"
     ]
    }
   ],
   "source": [
    "!ls"
   ]
  },
  {
   "cell_type": "code",
   "execution_count": 6,
   "id": "a88e8bb9",
   "metadata": {},
   "outputs": [
    {
     "name": "stdout",
     "output_type": "stream",
     "text": [
      "Archive:  brazilian-ecommerce.zip\n",
      "  inflating: olist_customers_dataset.csv  \n",
      "  inflating: olist_geolocation_dataset.csv  \n",
      "  inflating: olist_order_items_dataset.csv  \n",
      "  inflating: olist_order_payments_dataset.csv  \n",
      "  inflating: olist_order_reviews_dataset.csv  \n",
      "  inflating: olist_orders_dataset.csv  \n",
      "  inflating: olist_products_dataset.csv  \n",
      "  inflating: olist_sellers_dataset.csv  \n",
      "  inflating: product_category_name_translation.csv  \n"
     ]
    }
   ],
   "source": [
    "!unzip brazilian-ecommerce.zip"
   ]
  },
  {
   "cell_type": "markdown",
   "id": "8bfa8ef8",
   "metadata": {},
   "source": [
    "# Выгрузка данных"
   ]
  },
  {
   "cell_type": "code",
   "execution_count": 1,
   "id": "07e4b002",
   "metadata": {},
   "outputs": [],
   "source": [
    "import pandas as pd\n",
    "import seaborn as sns\n",
    "import matplotlib.pyplot as plt\n",
    "from datetime import datetime\n",
    "sns.set(\n",
    "    font_scale=1,    \n",
    "    style=\"whitegrid\",\n",
    "    rc={'figure.figsize':(10,5)}    \n",
    "        )"
   ]
  },
  {
   "cell_type": "code",
   "execution_count": 2,
   "id": "61a1d914",
   "metadata": {},
   "outputs": [],
   "source": [
    "customers = pd.read_csv('olist_customers_dataset.csv')\n",
    "orders = pd.read_csv('olist_orders_dataset.csv',\n",
    "                     parse_dates=[\n",
    "                         'order_purchase_timestamp',\n",
    "                         'order_delivered_carrier_date',\n",
    "                         'order_delivered_customer_date',\n",
    "                         'order_approved_at',\n",
    "                         'order_estimated_delivery_date'])\n",
    "order_items = pd.read_csv('olist_order_items_dataset.csv', parse_dates=['shipping_limit_date'])"
   ]
  },
  {
   "cell_type": "code",
   "execution_count": 178,
   "id": "21d3132e",
   "metadata": {},
   "outputs": [
    {
     "data": {
      "text/html": [
       "<div>\n",
       "<style scoped>\n",
       "    .dataframe tbody tr th:only-of-type {\n",
       "        vertical-align: middle;\n",
       "    }\n",
       "\n",
       "    .dataframe tbody tr th {\n",
       "        vertical-align: top;\n",
       "    }\n",
       "\n",
       "    .dataframe thead th {\n",
       "        text-align: right;\n",
       "    }\n",
       "</style>\n",
       "<table border=\"1\" class=\"dataframe\">\n",
       "  <thead>\n",
       "    <tr style=\"text-align: right;\">\n",
       "      <th></th>\n",
       "      <th>customer_id</th>\n",
       "      <th>customer_unique_id</th>\n",
       "      <th>customer_zip_code_prefix</th>\n",
       "      <th>customer_city</th>\n",
       "      <th>customer_state</th>\n",
       "    </tr>\n",
       "  </thead>\n",
       "  <tbody>\n",
       "    <tr>\n",
       "      <th>0</th>\n",
       "      <td>06b8999e2fba1a1fbc88172c00ba8bc7</td>\n",
       "      <td>861eff4711a542e4b93843c6dd7febb0</td>\n",
       "      <td>14409</td>\n",
       "      <td>franca</td>\n",
       "      <td>SP</td>\n",
       "    </tr>\n",
       "    <tr>\n",
       "      <th>1</th>\n",
       "      <td>18955e83d337fd6b2def6b18a428ac77</td>\n",
       "      <td>290c77bc529b7ac935b93aa66c333dc3</td>\n",
       "      <td>9790</td>\n",
       "      <td>sao bernardo do campo</td>\n",
       "      <td>SP</td>\n",
       "    </tr>\n",
       "    <tr>\n",
       "      <th>2</th>\n",
       "      <td>4e7b3e00288586ebd08712fdd0374a03</td>\n",
       "      <td>060e732b5b29e8181a18229c7b0b2b5e</td>\n",
       "      <td>1151</td>\n",
       "      <td>sao paulo</td>\n",
       "      <td>SP</td>\n",
       "    </tr>\n",
       "    <tr>\n",
       "      <th>3</th>\n",
       "      <td>b2b6027bc5c5109e529d4dc6358b12c3</td>\n",
       "      <td>259dac757896d24d7702b9acbbff3f3c</td>\n",
       "      <td>8775</td>\n",
       "      <td>mogi das cruzes</td>\n",
       "      <td>SP</td>\n",
       "    </tr>\n",
       "    <tr>\n",
       "      <th>4</th>\n",
       "      <td>4f2d8ab171c80ec8364f7c12e35b23ad</td>\n",
       "      <td>345ecd01c38d18a9036ed96c73b8d066</td>\n",
       "      <td>13056</td>\n",
       "      <td>campinas</td>\n",
       "      <td>SP</td>\n",
       "    </tr>\n",
       "  </tbody>\n",
       "</table>\n",
       "</div>"
      ],
      "text/plain": [
       "                        customer_id                customer_unique_id  \\\n",
       "0  06b8999e2fba1a1fbc88172c00ba8bc7  861eff4711a542e4b93843c6dd7febb0   \n",
       "1  18955e83d337fd6b2def6b18a428ac77  290c77bc529b7ac935b93aa66c333dc3   \n",
       "2  4e7b3e00288586ebd08712fdd0374a03  060e732b5b29e8181a18229c7b0b2b5e   \n",
       "3  b2b6027bc5c5109e529d4dc6358b12c3  259dac757896d24d7702b9acbbff3f3c   \n",
       "4  4f2d8ab171c80ec8364f7c12e35b23ad  345ecd01c38d18a9036ed96c73b8d066   \n",
       "\n",
       "   customer_zip_code_prefix          customer_city customer_state  \n",
       "0                     14409                 franca             SP  \n",
       "1                      9790  sao bernardo do campo             SP  \n",
       "2                      1151              sao paulo             SP  \n",
       "3                      8775        mogi das cruzes             SP  \n",
       "4                     13056               campinas             SP  "
      ]
     },
     "metadata": {},
     "output_type": "display_data"
    },
    {
     "name": "stdout",
     "output_type": "stream",
     "text": [
      "<class 'pandas.core.frame.DataFrame'>\n",
      "RangeIndex: 99441 entries, 0 to 99440\n",
      "Data columns (total 5 columns):\n",
      " #   Column                    Non-Null Count  Dtype \n",
      "---  ------                    --------------  ----- \n",
      " 0   customer_id               99441 non-null  object\n",
      " 1   customer_unique_id        99441 non-null  object\n",
      " 2   customer_zip_code_prefix  99441 non-null  int64 \n",
      " 3   customer_city             99441 non-null  object\n",
      " 4   customer_state            99441 non-null  object\n",
      "dtypes: int64(1), object(4)\n",
      "memory usage: 3.8+ MB\n"
     ]
    },
    {
     "data": {
      "text/plain": [
       "None"
      ]
     },
     "metadata": {},
     "output_type": "display_data"
    },
    {
     "name": "stdout",
     "output_type": "stream",
     "text": [
      "0\n"
     ]
    },
    {
     "data": {
      "text/html": [
       "<div>\n",
       "<style scoped>\n",
       "    .dataframe tbody tr th:only-of-type {\n",
       "        vertical-align: middle;\n",
       "    }\n",
       "\n",
       "    .dataframe tbody tr th {\n",
       "        vertical-align: top;\n",
       "    }\n",
       "\n",
       "    .dataframe thead th {\n",
       "        text-align: right;\n",
       "    }\n",
       "</style>\n",
       "<table border=\"1\" class=\"dataframe\">\n",
       "  <thead>\n",
       "    <tr style=\"text-align: right;\">\n",
       "      <th></th>\n",
       "      <th>order_id</th>\n",
       "      <th>customer_id</th>\n",
       "      <th>order_status</th>\n",
       "      <th>order_purchase_timestamp</th>\n",
       "      <th>order_approved_at</th>\n",
       "      <th>order_delivered_carrier_date</th>\n",
       "      <th>order_delivered_customer_date</th>\n",
       "      <th>order_estimated_delivery_date</th>\n",
       "    </tr>\n",
       "  </thead>\n",
       "  <tbody>\n",
       "    <tr>\n",
       "      <th>0</th>\n",
       "      <td>e481f51cbdc54678b7cc49136f2d6af7</td>\n",
       "      <td>9ef432eb6251297304e76186b10a928d</td>\n",
       "      <td>delivered</td>\n",
       "      <td>2017-10-02 10:56:33</td>\n",
       "      <td>2017-10-02 11:07:15</td>\n",
       "      <td>2017-10-04 19:55:00</td>\n",
       "      <td>2017-10-10 21:25:13</td>\n",
       "      <td>2017-10-18</td>\n",
       "    </tr>\n",
       "    <tr>\n",
       "      <th>1</th>\n",
       "      <td>53cdb2fc8bc7dce0b6741e2150273451</td>\n",
       "      <td>b0830fb4747a6c6d20dea0b8c802d7ef</td>\n",
       "      <td>delivered</td>\n",
       "      <td>2018-07-24 20:41:37</td>\n",
       "      <td>2018-07-26 03:24:27</td>\n",
       "      <td>2018-07-26 14:31:00</td>\n",
       "      <td>2018-08-07 15:27:45</td>\n",
       "      <td>2018-08-13</td>\n",
       "    </tr>\n",
       "    <tr>\n",
       "      <th>2</th>\n",
       "      <td>47770eb9100c2d0c44946d9cf07ec65d</td>\n",
       "      <td>41ce2a54c0b03bf3443c3d931a367089</td>\n",
       "      <td>delivered</td>\n",
       "      <td>2018-08-08 08:38:49</td>\n",
       "      <td>2018-08-08 08:55:23</td>\n",
       "      <td>2018-08-08 13:50:00</td>\n",
       "      <td>2018-08-17 18:06:29</td>\n",
       "      <td>2018-09-04</td>\n",
       "    </tr>\n",
       "    <tr>\n",
       "      <th>3</th>\n",
       "      <td>949d5b44dbf5de918fe9c16f97b45f8a</td>\n",
       "      <td>f88197465ea7920adcdbec7375364d82</td>\n",
       "      <td>delivered</td>\n",
       "      <td>2017-11-18 19:28:06</td>\n",
       "      <td>2017-11-18 19:45:59</td>\n",
       "      <td>2017-11-22 13:39:59</td>\n",
       "      <td>2017-12-02 00:28:42</td>\n",
       "      <td>2017-12-15</td>\n",
       "    </tr>\n",
       "    <tr>\n",
       "      <th>4</th>\n",
       "      <td>ad21c59c0840e6cb83a9ceb5573f8159</td>\n",
       "      <td>8ab97904e6daea8866dbdbc4fb7aad2c</td>\n",
       "      <td>delivered</td>\n",
       "      <td>2018-02-13 21:18:39</td>\n",
       "      <td>2018-02-13 22:20:29</td>\n",
       "      <td>2018-02-14 19:46:34</td>\n",
       "      <td>2018-02-16 18:17:02</td>\n",
       "      <td>2018-02-26</td>\n",
       "    </tr>\n",
       "  </tbody>\n",
       "</table>\n",
       "</div>"
      ],
      "text/plain": [
       "                           order_id                       customer_id  \\\n",
       "0  e481f51cbdc54678b7cc49136f2d6af7  9ef432eb6251297304e76186b10a928d   \n",
       "1  53cdb2fc8bc7dce0b6741e2150273451  b0830fb4747a6c6d20dea0b8c802d7ef   \n",
       "2  47770eb9100c2d0c44946d9cf07ec65d  41ce2a54c0b03bf3443c3d931a367089   \n",
       "3  949d5b44dbf5de918fe9c16f97b45f8a  f88197465ea7920adcdbec7375364d82   \n",
       "4  ad21c59c0840e6cb83a9ceb5573f8159  8ab97904e6daea8866dbdbc4fb7aad2c   \n",
       "\n",
       "  order_status order_purchase_timestamp   order_approved_at  \\\n",
       "0    delivered      2017-10-02 10:56:33 2017-10-02 11:07:15   \n",
       "1    delivered      2018-07-24 20:41:37 2018-07-26 03:24:27   \n",
       "2    delivered      2018-08-08 08:38:49 2018-08-08 08:55:23   \n",
       "3    delivered      2017-11-18 19:28:06 2017-11-18 19:45:59   \n",
       "4    delivered      2018-02-13 21:18:39 2018-02-13 22:20:29   \n",
       "\n",
       "  order_delivered_carrier_date order_delivered_customer_date  \\\n",
       "0          2017-10-04 19:55:00           2017-10-10 21:25:13   \n",
       "1          2018-07-26 14:31:00           2018-08-07 15:27:45   \n",
       "2          2018-08-08 13:50:00           2018-08-17 18:06:29   \n",
       "3          2017-11-22 13:39:59           2017-12-02 00:28:42   \n",
       "4          2018-02-14 19:46:34           2018-02-16 18:17:02   \n",
       "\n",
       "  order_estimated_delivery_date  \n",
       "0                    2017-10-18  \n",
       "1                    2018-08-13  \n",
       "2                    2018-09-04  \n",
       "3                    2017-12-15  \n",
       "4                    2018-02-26  "
      ]
     },
     "metadata": {},
     "output_type": "display_data"
    },
    {
     "name": "stdout",
     "output_type": "stream",
     "text": [
      "<class 'pandas.core.frame.DataFrame'>\n",
      "RangeIndex: 99441 entries, 0 to 99440\n",
      "Data columns (total 8 columns):\n",
      " #   Column                         Non-Null Count  Dtype         \n",
      "---  ------                         --------------  -----         \n",
      " 0   order_id                       99441 non-null  object        \n",
      " 1   customer_id                    99441 non-null  object        \n",
      " 2   order_status                   99441 non-null  object        \n",
      " 3   order_purchase_timestamp       99441 non-null  datetime64[ns]\n",
      " 4   order_approved_at              99281 non-null  datetime64[ns]\n",
      " 5   order_delivered_carrier_date   97658 non-null  datetime64[ns]\n",
      " 6   order_delivered_customer_date  96476 non-null  datetime64[ns]\n",
      " 7   order_estimated_delivery_date  99441 non-null  datetime64[ns]\n",
      "dtypes: datetime64[ns](5), object(3)\n",
      "memory usage: 6.1+ MB\n"
     ]
    },
    {
     "data": {
      "text/plain": [
       "None"
      ]
     },
     "metadata": {},
     "output_type": "display_data"
    },
    {
     "name": "stdout",
     "output_type": "stream",
     "text": [
      "0\n"
     ]
    },
    {
     "data": {
      "text/html": [
       "<div>\n",
       "<style scoped>\n",
       "    .dataframe tbody tr th:only-of-type {\n",
       "        vertical-align: middle;\n",
       "    }\n",
       "\n",
       "    .dataframe tbody tr th {\n",
       "        vertical-align: top;\n",
       "    }\n",
       "\n",
       "    .dataframe thead th {\n",
       "        text-align: right;\n",
       "    }\n",
       "</style>\n",
       "<table border=\"1\" class=\"dataframe\">\n",
       "  <thead>\n",
       "    <tr style=\"text-align: right;\">\n",
       "      <th></th>\n",
       "      <th>order_id</th>\n",
       "      <th>order_item_id</th>\n",
       "      <th>product_id</th>\n",
       "      <th>seller_id</th>\n",
       "      <th>shipping_limit_date</th>\n",
       "      <th>price</th>\n",
       "      <th>freight_value</th>\n",
       "    </tr>\n",
       "  </thead>\n",
       "  <tbody>\n",
       "    <tr>\n",
       "      <th>0</th>\n",
       "      <td>00010242fe8c5a6d1ba2dd792cb16214</td>\n",
       "      <td>1</td>\n",
       "      <td>4244733e06e7ecb4970a6e2683c13e61</td>\n",
       "      <td>48436dade18ac8b2bce089ec2a041202</td>\n",
       "      <td>2017-09-19 09:45:35</td>\n",
       "      <td>58.90</td>\n",
       "      <td>13.29</td>\n",
       "    </tr>\n",
       "    <tr>\n",
       "      <th>1</th>\n",
       "      <td>00018f77f2f0320c557190d7a144bdd3</td>\n",
       "      <td>1</td>\n",
       "      <td>e5f2d52b802189ee658865ca93d83a8f</td>\n",
       "      <td>dd7ddc04e1b6c2c614352b383efe2d36</td>\n",
       "      <td>2017-05-03 11:05:13</td>\n",
       "      <td>239.90</td>\n",
       "      <td>19.93</td>\n",
       "    </tr>\n",
       "    <tr>\n",
       "      <th>2</th>\n",
       "      <td>000229ec398224ef6ca0657da4fc703e</td>\n",
       "      <td>1</td>\n",
       "      <td>c777355d18b72b67abbeef9df44fd0fd</td>\n",
       "      <td>5b51032eddd242adc84c38acab88f23d</td>\n",
       "      <td>2018-01-18 14:48:30</td>\n",
       "      <td>199.00</td>\n",
       "      <td>17.87</td>\n",
       "    </tr>\n",
       "    <tr>\n",
       "      <th>3</th>\n",
       "      <td>00024acbcdf0a6daa1e931b038114c75</td>\n",
       "      <td>1</td>\n",
       "      <td>7634da152a4610f1595efa32f14722fc</td>\n",
       "      <td>9d7a1d34a5052409006425275ba1c2b4</td>\n",
       "      <td>2018-08-15 10:10:18</td>\n",
       "      <td>12.99</td>\n",
       "      <td>12.79</td>\n",
       "    </tr>\n",
       "    <tr>\n",
       "      <th>4</th>\n",
       "      <td>00042b26cf59d7ce69dfabb4e55b4fd9</td>\n",
       "      <td>1</td>\n",
       "      <td>ac6c3623068f30de03045865e4e10089</td>\n",
       "      <td>df560393f3a51e74553ab94004ba5c87</td>\n",
       "      <td>2017-02-13 13:57:51</td>\n",
       "      <td>199.90</td>\n",
       "      <td>18.14</td>\n",
       "    </tr>\n",
       "  </tbody>\n",
       "</table>\n",
       "</div>"
      ],
      "text/plain": [
       "                           order_id  order_item_id  \\\n",
       "0  00010242fe8c5a6d1ba2dd792cb16214              1   \n",
       "1  00018f77f2f0320c557190d7a144bdd3              1   \n",
       "2  000229ec398224ef6ca0657da4fc703e              1   \n",
       "3  00024acbcdf0a6daa1e931b038114c75              1   \n",
       "4  00042b26cf59d7ce69dfabb4e55b4fd9              1   \n",
       "\n",
       "                         product_id                         seller_id  \\\n",
       "0  4244733e06e7ecb4970a6e2683c13e61  48436dade18ac8b2bce089ec2a041202   \n",
       "1  e5f2d52b802189ee658865ca93d83a8f  dd7ddc04e1b6c2c614352b383efe2d36   \n",
       "2  c777355d18b72b67abbeef9df44fd0fd  5b51032eddd242adc84c38acab88f23d   \n",
       "3  7634da152a4610f1595efa32f14722fc  9d7a1d34a5052409006425275ba1c2b4   \n",
       "4  ac6c3623068f30de03045865e4e10089  df560393f3a51e74553ab94004ba5c87   \n",
       "\n",
       "  shipping_limit_date   price  freight_value  \n",
       "0 2017-09-19 09:45:35   58.90          13.29  \n",
       "1 2017-05-03 11:05:13  239.90          19.93  \n",
       "2 2018-01-18 14:48:30  199.00          17.87  \n",
       "3 2018-08-15 10:10:18   12.99          12.79  \n",
       "4 2017-02-13 13:57:51  199.90          18.14  "
      ]
     },
     "metadata": {},
     "output_type": "display_data"
    },
    {
     "name": "stdout",
     "output_type": "stream",
     "text": [
      "<class 'pandas.core.frame.DataFrame'>\n",
      "RangeIndex: 112650 entries, 0 to 112649\n",
      "Data columns (total 7 columns):\n",
      " #   Column               Non-Null Count   Dtype         \n",
      "---  ------               --------------   -----         \n",
      " 0   order_id             112650 non-null  object        \n",
      " 1   order_item_id        112650 non-null  int64         \n",
      " 2   product_id           112650 non-null  object        \n",
      " 3   seller_id            112650 non-null  object        \n",
      " 4   shipping_limit_date  112650 non-null  datetime64[ns]\n",
      " 5   price                112650 non-null  float64       \n",
      " 6   freight_value        112650 non-null  float64       \n",
      "dtypes: datetime64[ns](1), float64(2), int64(1), object(3)\n",
      "memory usage: 6.0+ MB\n"
     ]
    },
    {
     "data": {
      "text/plain": [
       "None"
      ]
     },
     "metadata": {},
     "output_type": "display_data"
    },
    {
     "name": "stdout",
     "output_type": "stream",
     "text": [
      "0\n"
     ]
    }
   ],
   "source": [
    "for df in [customers, orders, order_items]:\n",
    "    display(df.head())\n",
    "    display(df.info())\n",
    "    print(df.duplicated().sum())"
   ]
  },
  {
   "cell_type": "markdown",
   "id": "6bdc905e",
   "metadata": {},
   "source": [
    "# EDA"
   ]
  },
  {
   "cell_type": "markdown",
   "id": "8d1f6efd",
   "metadata": {},
   "source": [
    "**Посмотрим на число непривязанных клиентов, сделавших только одну покупку на наших маркеплейсах**"
   ]
  },
  {
   "cell_type": "markdown",
   "id": "8e0eadd1",
   "metadata": {},
   "source": [
    "Посмотрим на имеющиеся статусы заказов"
   ]
  },
  {
   "cell_type": "code",
   "execution_count": 71,
   "id": "173ccd44",
   "metadata": {},
   "outputs": [
    {
     "data": {
      "image/png": "[encoded data removed]",
      "text/plain": [
       "<Figure size 1000x500 with 1 Axes>"
      ]
     },
     "metadata": {},
     "output_type": "display_data"
    }
   ],
   "source": [
    "ax = sns.countplot(x=orders.order_status)\n",
    "ax.tick_params(axis='x', rotation=45)\n",
    "ax.bar_label(ax.containers[0]);\n",
    "plt.title(\"Число заказов разных статусов\")\n",
    "sns.despine()"
   ]
  },
  {
   "cell_type": "markdown",
   "id": "65820773",
   "metadata": {},
   "source": [
    "Будем считать успешной покупкой оплаченный и доставленный заказ"
   ]
  },
  {
   "cell_type": "code",
   "execution_count": 157,
   "id": "bd17cec2",
   "metadata": {},
   "outputs": [
    {
     "data": {
      "text/html": [
       "<div>\n",
       "<style scoped>\n",
       "    .dataframe tbody tr th:only-of-type {\n",
       "        vertical-align: middle;\n",
       "    }\n",
       "\n",
       "    .dataframe tbody tr th {\n",
       "        vertical-align: top;\n",
       "    }\n",
       "\n",
       "    .dataframe thead th {\n",
       "        text-align: right;\n",
       "    }\n",
       "</style>\n",
       "<table border=\"1\" class=\"dataframe\">\n",
       "  <thead>\n",
       "    <tr style=\"text-align: right;\">\n",
       "      <th></th>\n",
       "      <th>customer_id</th>\n",
       "      <th>customer_unique_id</th>\n",
       "      <th>customer_zip_code_prefix</th>\n",
       "      <th>customer_city</th>\n",
       "      <th>customer_state</th>\n",
       "      <th>order_id</th>\n",
       "      <th>order_status</th>\n",
       "      <th>order_purchase_timestamp</th>\n",
       "      <th>order_approved_at</th>\n",
       "      <th>order_delivered_carrier_date</th>\n",
       "      <th>order_delivered_customer_date</th>\n",
       "      <th>order_estimated_delivery_date</th>\n",
       "    </tr>\n",
       "  </thead>\n",
       "  <tbody>\n",
       "    <tr>\n",
       "      <th>0</th>\n",
       "      <td>9ef432eb6251297304e76186b10a928d</td>\n",
       "      <td>7c396fd4830fd04220f754e42b4e5bff</td>\n",
       "      <td>3149</td>\n",
       "      <td>sao paulo</td>\n",
       "      <td>SP</td>\n",
       "      <td>e481f51cbdc54678b7cc49136f2d6af7</td>\n",
       "      <td>delivered</td>\n",
       "      <td>2017-10-02 10:56:33</td>\n",
       "      <td>2017-10-02 11:07:15</td>\n",
       "      <td>2017-10-04 19:55:00</td>\n",
       "      <td>2017-10-10 21:25:13</td>\n",
       "      <td>2017-10-18</td>\n",
       "    </tr>\n",
       "    <tr>\n",
       "      <th>1</th>\n",
       "      <td>b0830fb4747a6c6d20dea0b8c802d7ef</td>\n",
       "      <td>af07308b275d755c9edb36a90c618231</td>\n",
       "      <td>47813</td>\n",
       "      <td>barreiras</td>\n",
       "      <td>BA</td>\n",
       "      <td>53cdb2fc8bc7dce0b6741e2150273451</td>\n",
       "      <td>delivered</td>\n",
       "      <td>2018-07-24 20:41:37</td>\n",
       "      <td>2018-07-26 03:24:27</td>\n",
       "      <td>2018-07-26 14:31:00</td>\n",
       "      <td>2018-08-07 15:27:45</td>\n",
       "      <td>2018-08-13</td>\n",
       "    </tr>\n",
       "    <tr>\n",
       "      <th>2</th>\n",
       "      <td>41ce2a54c0b03bf3443c3d931a367089</td>\n",
       "      <td>3a653a41f6f9fc3d2a113cf8398680e8</td>\n",
       "      <td>75265</td>\n",
       "      <td>vianopolis</td>\n",
       "      <td>GO</td>\n",
       "      <td>47770eb9100c2d0c44946d9cf07ec65d</td>\n",
       "      <td>delivered</td>\n",
       "      <td>2018-08-08 08:38:49</td>\n",
       "      <td>2018-08-08 08:55:23</td>\n",
       "      <td>2018-08-08 13:50:00</td>\n",
       "      <td>2018-08-17 18:06:29</td>\n",
       "      <td>2018-09-04</td>\n",
       "    </tr>\n",
       "    <tr>\n",
       "      <th>3</th>\n",
       "      <td>f88197465ea7920adcdbec7375364d82</td>\n",
       "      <td>7c142cf63193a1473d2e66489a9ae977</td>\n",
       "      <td>59296</td>\n",
       "      <td>sao goncalo do amarante</td>\n",
       "      <td>RN</td>\n",
       "      <td>949d5b44dbf5de918fe9c16f97b45f8a</td>\n",
       "      <td>delivered</td>\n",
       "      <td>2017-11-18 19:28:06</td>\n",
       "      <td>2017-11-18 19:45:59</td>\n",
       "      <td>2017-11-22 13:39:59</td>\n",
       "      <td>2017-12-02 00:28:42</td>\n",
       "      <td>2017-12-15</td>\n",
       "    </tr>\n",
       "    <tr>\n",
       "      <th>4</th>\n",
       "      <td>8ab97904e6daea8866dbdbc4fb7aad2c</td>\n",
       "      <td>72632f0f9dd73dfee390c9b22eb56dd6</td>\n",
       "      <td>9195</td>\n",
       "      <td>santo andre</td>\n",
       "      <td>SP</td>\n",
       "      <td>ad21c59c0840e6cb83a9ceb5573f8159</td>\n",
       "      <td>delivered</td>\n",
       "      <td>2018-02-13 21:18:39</td>\n",
       "      <td>2018-02-13 22:20:29</td>\n",
       "      <td>2018-02-14 19:46:34</td>\n",
       "      <td>2018-02-16 18:17:02</td>\n",
       "      <td>2018-02-26</td>\n",
       "    </tr>\n",
       "  </tbody>\n",
       "</table>\n",
       "</div>"
      ],
      "text/plain": [
       "                        customer_id                customer_unique_id  \\\n",
       "0  9ef432eb6251297304e76186b10a928d  7c396fd4830fd04220f754e42b4e5bff   \n",
       "1  b0830fb4747a6c6d20dea0b8c802d7ef  af07308b275d755c9edb36a90c618231   \n",
       "2  41ce2a54c0b03bf3443c3d931a367089  3a653a41f6f9fc3d2a113cf8398680e8   \n",
       "3  f88197465ea7920adcdbec7375364d82  7c142cf63193a1473d2e66489a9ae977   \n",
       "4  8ab97904e6daea8866dbdbc4fb7aad2c  72632f0f9dd73dfee390c9b22eb56dd6   \n",
       "\n",
       "   customer_zip_code_prefix            customer_city customer_state  \\\n",
       "0                      3149                sao paulo             SP   \n",
       "1                     47813                barreiras             BA   \n",
       "2                     75265               vianopolis             GO   \n",
       "3                     59296  sao goncalo do amarante             RN   \n",
       "4                      9195              santo andre             SP   \n",
       "\n",
       "                           order_id order_status order_purchase_timestamp  \\\n",
       "0  e481f51cbdc54678b7cc49136f2d6af7    delivered      2017-10-02 10:56:33   \n",
       "1  53cdb2fc8bc7dce0b6741e2150273451    delivered      2018-07-24 20:41:37   \n",
       "2  47770eb9100c2d0c44946d9cf07ec65d    delivered      2018-08-08 08:38:49   \n",
       "3  949d5b44dbf5de918fe9c16f97b45f8a    delivered      2017-11-18 19:28:06   \n",
       "4  ad21c59c0840e6cb83a9ceb5573f8159    delivered      2018-02-13 21:18:39   \n",
       "\n",
       "     order_approved_at order_delivered_carrier_date  \\\n",
       "0  2017-10-02 11:07:15          2017-10-04 19:55:00   \n",
       "1  2018-07-26 03:24:27          2018-07-26 14:31:00   \n",
       "2  2018-08-08 08:55:23          2018-08-08 13:50:00   \n",
       "3  2017-11-18 19:45:59          2017-11-22 13:39:59   \n",
       "4  2018-02-13 22:20:29          2018-02-14 19:46:34   \n",
       "\n",
       "  order_delivered_customer_date order_estimated_delivery_date  \n",
       "0           2017-10-10 21:25:13                    2017-10-18  \n",
       "1           2018-08-07 15:27:45                    2018-08-13  \n",
       "2           2018-08-17 18:06:29                    2018-09-04  \n",
       "3           2017-12-02 00:28:42                    2017-12-15  \n",
       "4           2018-02-16 18:17:02                    2018-02-26  "
      ]
     },
     "execution_count": 157,
     "metadata": {},
     "output_type": "execute_result"
    }
   ],
   "source": [
    "delivered_orders = orders.query('order_status == \"delivered\"')\n",
    "customer_orders = customers.merge(delivered_orders, on=['customer_id'], how='right')\n",
    "customer_orders.head()"
   ]
  },
  {
   "cell_type": "code",
   "execution_count": 36,
   "id": "e2ddd4b5",
   "metadata": {},
   "outputs": [
    {
     "data": {
      "text/plain": [
       "customer_id                      99441\n",
       "customer_unique_id               96096\n",
       "customer_zip_code_prefix         14994\n",
       "customer_city                     4119\n",
       "customer_state                      27\n",
       "order_id                         96478\n",
       "order_status                         1\n",
       "order_purchase_timestamp         95956\n",
       "order_approved_at                88274\n",
       "order_delivered_carrier_date     80106\n",
       "order_delivered_customer_date    95658\n",
       "order_estimated_delivery_date      445\n",
       "dtype: int64"
      ]
     },
     "execution_count": 36,
     "metadata": {},
     "output_type": "execute_result"
    }
   ],
   "source": [
    "customer_orders.nunique()"
   ]
  },
  {
   "cell_type": "code",
   "execution_count": 11,
   "id": "d137f260",
   "metadata": {},
   "outputs": [
    {
     "name": "stdout",
     "output_type": "stream",
     "text": [
      "Число покупателей с одной покупкой: 90557\n"
     ]
    }
   ],
   "source": [
    "cnt_1p_cust = customer_orders.groupby('customer_unique_id', as_index=False)\\\n",
    "    .agg({'order_id' : 'count'})\\\n",
    "    .rename(columns={'order_id' : 'order_count'})\\\n",
    "    .query('order_count == 1')\\\n",
    "    .shape[0]\n",
    "print(f'Число покупателей с одной покупкой: {cnt_1p_cust}')"
   ]
  },
  {
   "cell_type": "markdown",
   "id": "11e12290",
   "metadata": {},
   "source": [
    "**Посмотрим сколько заказов в месяц не доставляется и по каким причинам**"
   ]
  },
  {
   "cell_type": "markdown",
   "id": "02951ad1",
   "metadata": {},
   "source": [
    "Оставим только заказы в статусах: shipped, canceled, unavailable, processing. По ним можно понять, почему заказ еще не был доставлен, то есть он либо отправлен, отменен, недоступен или только обрабатывается"
   ]
  },
  {
   "cell_type": "code",
   "execution_count": 60,
   "id": "cbb8212c",
   "metadata": {},
   "outputs": [
    {
     "data": {
      "text/plain": [
       "delivered      96478\n",
       "shipped         1107\n",
       "canceled         625\n",
       "unavailable      609\n",
       "invoiced         314\n",
       "processing       301\n",
       "created            5\n",
       "approved           2\n",
       "Name: order_status, dtype: int64"
      ]
     },
     "execution_count": 60,
     "metadata": {},
     "output_type": "execute_result"
    }
   ],
   "source": [
    "orders.order_status.value_counts()"
   ]
  },
  {
   "cell_type": "code",
   "execution_count": 61,
   "id": "b0e6e3ac",
   "metadata": {},
   "outputs": [
    {
     "data": {
      "text/html": [
       "<div>\n",
       "<style scoped>\n",
       "    .dataframe tbody tr th:only-of-type {\n",
       "        vertical-align: middle;\n",
       "    }\n",
       "\n",
       "    .dataframe tbody tr th {\n",
       "        vertical-align: top;\n",
       "    }\n",
       "\n",
       "    .dataframe thead th {\n",
       "        text-align: right;\n",
       "    }\n",
       "</style>\n",
       "<table border=\"1\" class=\"dataframe\">\n",
       "  <thead>\n",
       "    <tr style=\"text-align: right;\">\n",
       "      <th></th>\n",
       "      <th>order_id</th>\n",
       "      <th>customer_id</th>\n",
       "      <th>order_status</th>\n",
       "      <th>order_purchase_timestamp</th>\n",
       "      <th>order_approved_at</th>\n",
       "      <th>order_delivered_carrier_date</th>\n",
       "      <th>order_delivered_customer_date</th>\n",
       "      <th>order_estimated_delivery_date</th>\n",
       "    </tr>\n",
       "  </thead>\n",
       "  <tbody>\n",
       "    <tr>\n",
       "      <th>44</th>\n",
       "      <td>ee64d42b8cf066f35eac1cf57de1aa85</td>\n",
       "      <td>caded193e8e47b8362864762a83db3c5</td>\n",
       "      <td>shipped</td>\n",
       "      <td>2018-06-04 16:44:48</td>\n",
       "      <td>2018-06-05 04:31:18</td>\n",
       "      <td>2018-06-05 14:32:00</td>\n",
       "      <td>NaT</td>\n",
       "      <td>2018-06-28</td>\n",
       "    </tr>\n",
       "    <tr>\n",
       "      <th>128</th>\n",
       "      <td>15bed8e2fec7fdbadb186b57c46c92f2</td>\n",
       "      <td>f3f0e613e0bdb9c7cee75504f0f90679</td>\n",
       "      <td>processing</td>\n",
       "      <td>2017-09-03 14:22:03</td>\n",
       "      <td>2017-09-03 14:30:09</td>\n",
       "      <td>NaT</td>\n",
       "      <td>NaT</td>\n",
       "      <td>2017-10-03</td>\n",
       "    </tr>\n",
       "    <tr>\n",
       "      <th>154</th>\n",
       "      <td>6942b8da583c2f9957e990d028607019</td>\n",
       "      <td>52006a9383bf149a4fb24226b173106f</td>\n",
       "      <td>shipped</td>\n",
       "      <td>2018-01-10 11:33:07</td>\n",
       "      <td>2018-01-11 02:32:30</td>\n",
       "      <td>2018-01-11 19:39:23</td>\n",
       "      <td>NaT</td>\n",
       "      <td>2018-02-07</td>\n",
       "    </tr>\n",
       "    <tr>\n",
       "      <th>162</th>\n",
       "      <td>36530871a5e80138db53bcfd8a104d90</td>\n",
       "      <td>4dafe3c841d2d6cc8a8b6d25b35704b9</td>\n",
       "      <td>shipped</td>\n",
       "      <td>2017-05-09 11:48:37</td>\n",
       "      <td>2017-05-11 11:45:14</td>\n",
       "      <td>2017-05-11 13:21:47</td>\n",
       "      <td>NaT</td>\n",
       "      <td>2017-06-08</td>\n",
       "    </tr>\n",
       "    <tr>\n",
       "      <th>231</th>\n",
       "      <td>4d630f57194f5aba1a3d12ce23e71cd9</td>\n",
       "      <td>6d491c9fe2f04f6e2af6ec033cd8907c</td>\n",
       "      <td>shipped</td>\n",
       "      <td>2017-11-17 19:53:21</td>\n",
       "      <td>2017-11-18 19:50:31</td>\n",
       "      <td>2017-11-22 17:28:34</td>\n",
       "      <td>NaT</td>\n",
       "      <td>2017-12-13</td>\n",
       "    </tr>\n",
       "  </tbody>\n",
       "</table>\n",
       "</div>"
      ],
      "text/plain": [
       "                             order_id                       customer_id  \\\n",
       "44   ee64d42b8cf066f35eac1cf57de1aa85  caded193e8e47b8362864762a83db3c5   \n",
       "128  15bed8e2fec7fdbadb186b57c46c92f2  f3f0e613e0bdb9c7cee75504f0f90679   \n",
       "154  6942b8da583c2f9957e990d028607019  52006a9383bf149a4fb24226b173106f   \n",
       "162  36530871a5e80138db53bcfd8a104d90  4dafe3c841d2d6cc8a8b6d25b35704b9   \n",
       "231  4d630f57194f5aba1a3d12ce23e71cd9  6d491c9fe2f04f6e2af6ec033cd8907c   \n",
       "\n",
       "    order_status order_purchase_timestamp    order_approved_at  \\\n",
       "44       shipped      2018-06-04 16:44:48  2018-06-05 04:31:18   \n",
       "128   processing      2017-09-03 14:22:03  2017-09-03 14:30:09   \n",
       "154      shipped      2018-01-10 11:33:07  2018-01-11 02:32:30   \n",
       "162      shipped      2017-05-09 11:48:37  2017-05-11 11:45:14   \n",
       "231      shipped      2017-11-17 19:53:21  2017-11-18 19:50:31   \n",
       "\n",
       "    order_delivered_carrier_date order_delivered_customer_date  \\\n",
       "44           2018-06-05 14:32:00                           NaT   \n",
       "128                          NaT                           NaT   \n",
       "154          2018-01-11 19:39:23                           NaT   \n",
       "162          2017-05-11 13:21:47                           NaT   \n",
       "231          2017-11-22 17:28:34                           NaT   \n",
       "\n",
       "    order_estimated_delivery_date  \n",
       "44                     2018-06-28  \n",
       "128                    2017-10-03  \n",
       "154                    2018-02-07  \n",
       "162                    2017-06-08  \n",
       "231                    2017-12-13  "
      ]
     },
     "execution_count": 61,
     "metadata": {},
     "output_type": "execute_result"
    }
   ],
   "source": [
    "status = [\"shipped\", 'canceled', 'unavailable', 'processing']\n",
    "ndel_orders = orders.loc[orders.order_status.isin(status)]\n",
    "ndel_orders.head()"
   ]
  },
  {
   "cell_type": "code",
   "execution_count": 62,
   "id": "00d36e57",
   "metadata": {},
   "outputs": [
    {
     "name": "stderr",
     "output_type": "stream",
     "text": [
      "/var/folders/hk/z1wp_xq913x0vc8r72hc957w0000gp/T/ipykernel_1012/1774061556.py:1: SettingWithCopyWarning: \n",
      "A value is trying to be set on a copy of a slice from a DataFrame.\n",
      "Try using .loc[row_indexer,col_indexer] = value instead\n",
      "\n",
      "See the caveats in the documentation: https://pandas.pydata.org/pandas-docs/stable/user_guide/indexing.html#returning-a-view-versus-a-copy\n",
      "  ndel_orders['order_estimated_delivery_month'] = ndel_orders.order_estimated_delivery_date\\\n"
     ]
    }
   ],
   "source": [
    "ndel_orders['order_estimated_delivery_month'] = ndel_orders.order_estimated_delivery_date\\\n",
    "    .apply(lambda x: x.strftime('%Y-%m'));"
   ]
  },
  {
   "cell_type": "code",
   "execution_count": 63,
   "id": "ddfe252c",
   "metadata": {},
   "outputs": [],
   "source": [
    "pvt = ndel_orders.pivot_table(index='order_estimated_delivery_month',\n",
    "                       columns='order_status',\n",
    "                        values='order_id',\n",
    "                        aggfunc='count')"
   ]
  },
  {
   "cell_type": "code",
   "execution_count": 64,
   "id": "8c9ce2c8",
   "metadata": {},
   "outputs": [
    {
     "data": {
      "image/png": "[encoded data removed]",
      "text/plain": [
       "<Figure size 1000x500 with 1 Axes>"
      ]
     },
     "metadata": {},
     "output_type": "display_data"
    }
   ],
   "source": [
    "ax = pvt.plot.bar(stacked=True);\n",
    "plt.title('Число заказов по месяцам разных статусов');"
   ]
  },
  {
   "cell_type": "code",
   "execution_count": 95,
   "id": "c24a2dc2",
   "metadata": {},
   "outputs": [
    {
     "name": "stdout",
     "output_type": "stream",
     "text": [
      "24.04 заказов в среднем в месяц было в состоянии canceled\n",
      "15.84 заказов в среднем в месяц было в состоянии processing\n",
      "48.13 заказов в среднем в месяц было в состоянии shipped\n",
      "29.0 заказов в среднем в месяц было в состоянии unavailable\n"
     ]
    }
   ],
   "source": [
    "pvt_means = pvt.mean().to_frame().rename(columns={0:'order_count_mean'}).reset_index().round(2)\n",
    "\n",
    "for x in pvt_means.values:\n",
    "    print(f'{x[1]} заказов в среднем в месяц было в состоянии {x[0]}')"
   ]
  },
  {
   "cell_type": "markdown",
   "id": "2868d912",
   "metadata": {},
   "source": [
    "Посмотрим, на распределение числа покупок по дням недели"
   ]
  },
  {
   "cell_type": "code",
   "execution_count": 29,
   "id": "8786efca",
   "metadata": {},
   "outputs": [
    {
     "data": {
      "image/png": "[encoded data removed]",
      "text/plain": [
       "<Figure size 1000x500 with 1 Axes>"
      ]
     },
     "metadata": {},
     "output_type": "display_data"
    }
   ],
   "source": [
    "orders.order_purchase_timestamp.dt.day_name()\\\n",
    "    .value_counts()\\\n",
    "    .plot.bar();"
   ]
  },
  {
   "cell_type": "markdown",
   "id": "ab3c0bfd",
   "metadata": {},
   "source": [
    "Посмотрим в какой день недели чаще всего покупается каждый товар"
   ]
  },
  {
   "cell_type": "code",
   "execution_count": 111,
   "id": "2050ad7e",
   "metadata": {},
   "outputs": [
    {
     "data": {
      "text/html": [
       "<div>\n",
       "<style scoped>\n",
       "    .dataframe tbody tr th:only-of-type {\n",
       "        vertical-align: middle;\n",
       "    }\n",
       "\n",
       "    .dataframe tbody tr th {\n",
       "        vertical-align: top;\n",
       "    }\n",
       "\n",
       "    .dataframe thead th {\n",
       "        text-align: right;\n",
       "    }\n",
       "</style>\n",
       "<table border=\"1\" class=\"dataframe\">\n",
       "  <thead>\n",
       "    <tr style=\"text-align: right;\">\n",
       "      <th></th>\n",
       "      <th>order_id</th>\n",
       "      <th>order_item_id</th>\n",
       "      <th>product_id</th>\n",
       "      <th>seller_id</th>\n",
       "      <th>shipping_limit_date</th>\n",
       "      <th>price</th>\n",
       "      <th>freight_value</th>\n",
       "      <th>customer_id</th>\n",
       "      <th>order_status</th>\n",
       "      <th>order_purchase_timestamp</th>\n",
       "      <th>order_approved_at</th>\n",
       "      <th>order_delivered_carrier_date</th>\n",
       "      <th>order_delivered_customer_date</th>\n",
       "      <th>order_estimated_delivery_date</th>\n",
       "    </tr>\n",
       "  </thead>\n",
       "  <tbody>\n",
       "    <tr>\n",
       "      <th>0</th>\n",
       "      <td>00010242fe8c5a6d1ba2dd792cb16214</td>\n",
       "      <td>1</td>\n",
       "      <td>4244733e06e7ecb4970a6e2683c13e61</td>\n",
       "      <td>48436dade18ac8b2bce089ec2a041202</td>\n",
       "      <td>2017-09-19 09:45:35</td>\n",
       "      <td>58.90</td>\n",
       "      <td>13.29</td>\n",
       "      <td>3ce436f183e68e07877b285a838db11a</td>\n",
       "      <td>delivered</td>\n",
       "      <td>2017-09-13 08:59:02</td>\n",
       "      <td>2017-09-13 09:45:35</td>\n",
       "      <td>2017-09-19 18:34:16</td>\n",
       "      <td>2017-09-20 23:43:48</td>\n",
       "      <td>2017-09-29</td>\n",
       "    </tr>\n",
       "    <tr>\n",
       "      <th>1</th>\n",
       "      <td>00018f77f2f0320c557190d7a144bdd3</td>\n",
       "      <td>1</td>\n",
       "      <td>e5f2d52b802189ee658865ca93d83a8f</td>\n",
       "      <td>dd7ddc04e1b6c2c614352b383efe2d36</td>\n",
       "      <td>2017-05-03 11:05:13</td>\n",
       "      <td>239.90</td>\n",
       "      <td>19.93</td>\n",
       "      <td>f6dd3ec061db4e3987629fe6b26e5cce</td>\n",
       "      <td>delivered</td>\n",
       "      <td>2017-04-26 10:53:06</td>\n",
       "      <td>2017-04-26 11:05:13</td>\n",
       "      <td>2017-05-04 14:35:00</td>\n",
       "      <td>2017-05-12 16:04:24</td>\n",
       "      <td>2017-05-15</td>\n",
       "    </tr>\n",
       "    <tr>\n",
       "      <th>2</th>\n",
       "      <td>000229ec398224ef6ca0657da4fc703e</td>\n",
       "      <td>1</td>\n",
       "      <td>c777355d18b72b67abbeef9df44fd0fd</td>\n",
       "      <td>5b51032eddd242adc84c38acab88f23d</td>\n",
       "      <td>2018-01-18 14:48:30</td>\n",
       "      <td>199.00</td>\n",
       "      <td>17.87</td>\n",
       "      <td>6489ae5e4333f3693df5ad4372dab6d3</td>\n",
       "      <td>delivered</td>\n",
       "      <td>2018-01-14 14:33:31</td>\n",
       "      <td>2018-01-14 14:48:30</td>\n",
       "      <td>2018-01-16 12:36:48</td>\n",
       "      <td>2018-01-22 13:19:16</td>\n",
       "      <td>2018-02-05</td>\n",
       "    </tr>\n",
       "    <tr>\n",
       "      <th>3</th>\n",
       "      <td>00024acbcdf0a6daa1e931b038114c75</td>\n",
       "      <td>1</td>\n",
       "      <td>7634da152a4610f1595efa32f14722fc</td>\n",
       "      <td>9d7a1d34a5052409006425275ba1c2b4</td>\n",
       "      <td>2018-08-15 10:10:18</td>\n",
       "      <td>12.99</td>\n",
       "      <td>12.79</td>\n",
       "      <td>d4eb9395c8c0431ee92fce09860c5a06</td>\n",
       "      <td>delivered</td>\n",
       "      <td>2018-08-08 10:00:35</td>\n",
       "      <td>2018-08-08 10:10:18</td>\n",
       "      <td>2018-08-10 13:28:00</td>\n",
       "      <td>2018-08-14 13:32:39</td>\n",
       "      <td>2018-08-20</td>\n",
       "    </tr>\n",
       "    <tr>\n",
       "      <th>4</th>\n",
       "      <td>00042b26cf59d7ce69dfabb4e55b4fd9</td>\n",
       "      <td>1</td>\n",
       "      <td>ac6c3623068f30de03045865e4e10089</td>\n",
       "      <td>df560393f3a51e74553ab94004ba5c87</td>\n",
       "      <td>2017-02-13 13:57:51</td>\n",
       "      <td>199.90</td>\n",
       "      <td>18.14</td>\n",
       "      <td>58dbd0b2d70206bf40e62cd34e84d795</td>\n",
       "      <td>delivered</td>\n",
       "      <td>2017-02-04 13:57:51</td>\n",
       "      <td>2017-02-04 14:10:13</td>\n",
       "      <td>2017-02-16 09:46:09</td>\n",
       "      <td>2017-03-01 16:42:31</td>\n",
       "      <td>2017-03-17</td>\n",
       "    </tr>\n",
       "  </tbody>\n",
       "</table>\n",
       "</div>"
      ],
      "text/plain": [
       "                           order_id  order_item_id  \\\n",
       "0  00010242fe8c5a6d1ba2dd792cb16214              1   \n",
       "1  00018f77f2f0320c557190d7a144bdd3              1   \n",
       "2  000229ec398224ef6ca0657da4fc703e              1   \n",
       "3  00024acbcdf0a6daa1e931b038114c75              1   \n",
       "4  00042b26cf59d7ce69dfabb4e55b4fd9              1   \n",
       "\n",
       "                         product_id                         seller_id  \\\n",
       "0  4244733e06e7ecb4970a6e2683c13e61  48436dade18ac8b2bce089ec2a041202   \n",
       "1  e5f2d52b802189ee658865ca93d83a8f  dd7ddc04e1b6c2c614352b383efe2d36   \n",
       "2  c777355d18b72b67abbeef9df44fd0fd  5b51032eddd242adc84c38acab88f23d   \n",
       "3  7634da152a4610f1595efa32f14722fc  9d7a1d34a5052409006425275ba1c2b4   \n",
       "4  ac6c3623068f30de03045865e4e10089  df560393f3a51e74553ab94004ba5c87   \n",
       "\n",
       "  shipping_limit_date   price  freight_value  \\\n",
       "0 2017-09-19 09:45:35   58.90          13.29   \n",
       "1 2017-05-03 11:05:13  239.90          19.93   \n",
       "2 2018-01-18 14:48:30  199.00          17.87   \n",
       "3 2018-08-15 10:10:18   12.99          12.79   \n",
       "4 2017-02-13 13:57:51  199.90          18.14   \n",
       "\n",
       "                        customer_id order_status order_purchase_timestamp  \\\n",
       "0  3ce436f183e68e07877b285a838db11a    delivered      2017-09-13 08:59:02   \n",
       "1  f6dd3ec061db4e3987629fe6b26e5cce    delivered      2017-04-26 10:53:06   \n",
       "2  6489ae5e4333f3693df5ad4372dab6d3    delivered      2018-01-14 14:33:31   \n",
       "3  d4eb9395c8c0431ee92fce09860c5a06    delivered      2018-08-08 10:00:35   \n",
       "4  58dbd0b2d70206bf40e62cd34e84d795    delivered      2017-02-04 13:57:51   \n",
       "\n",
       "     order_approved_at order_delivered_carrier_date  \\\n",
       "0  2017-09-13 09:45:35          2017-09-19 18:34:16   \n",
       "1  2017-04-26 11:05:13          2017-05-04 14:35:00   \n",
       "2  2018-01-14 14:48:30          2018-01-16 12:36:48   \n",
       "3  2018-08-08 10:10:18          2018-08-10 13:28:00   \n",
       "4  2017-02-04 14:10:13          2017-02-16 09:46:09   \n",
       "\n",
       "  order_delivered_customer_date order_estimated_delivery_date  \n",
       "0           2017-09-20 23:43:48                    2017-09-29  \n",
       "1           2017-05-12 16:04:24                    2017-05-15  \n",
       "2           2018-01-22 13:19:16                    2018-02-05  \n",
       "3           2018-08-14 13:32:39                    2018-08-20  \n",
       "4           2017-03-01 16:42:31                    2017-03-17  "
      ]
     },
     "execution_count": 111,
     "metadata": {},
     "output_type": "execute_result"
    }
   ],
   "source": [
    "items = order_items.merge(orders, on='order_id')\n",
    "items.head()"
   ]
  },
  {
   "cell_type": "code",
   "execution_count": 55,
   "id": "04d643d6",
   "metadata": {},
   "outputs": [
    {
     "data": {
      "text/html": [
       "<div>\n",
       "<style scoped>\n",
       "    .dataframe tbody tr th:only-of-type {\n",
       "        vertical-align: middle;\n",
       "    }\n",
       "\n",
       "    .dataframe tbody tr th {\n",
       "        vertical-align: top;\n",
       "    }\n",
       "\n",
       "    .dataframe thead th {\n",
       "        text-align: right;\n",
       "    }\n",
       "</style>\n",
       "<table border=\"1\" class=\"dataframe\">\n",
       "  <thead>\n",
       "    <tr style=\"text-align: right;\">\n",
       "      <th></th>\n",
       "      <th>product_id</th>\n",
       "      <th>week_day</th>\n",
       "    </tr>\n",
       "  </thead>\n",
       "  <tbody>\n",
       "    <tr>\n",
       "      <th>0</th>\n",
       "      <td>00066f42aeeb9f3007548bb9d3f33c38</td>\n",
       "      <td>Sunday</td>\n",
       "    </tr>\n",
       "    <tr>\n",
       "      <th>1</th>\n",
       "      <td>00088930e925c41fd95ebfe695fd2655</td>\n",
       "      <td>Tuesday</td>\n",
       "    </tr>\n",
       "    <tr>\n",
       "      <th>2</th>\n",
       "      <td>0009406fd7479715e4bef61dd91f2462</td>\n",
       "      <td>Thursday</td>\n",
       "    </tr>\n",
       "    <tr>\n",
       "      <th>3</th>\n",
       "      <td>000b8f95fcb9e0096488278317764d19</td>\n",
       "      <td>[Friday, Wednesday]</td>\n",
       "    </tr>\n",
       "    <tr>\n",
       "      <th>4</th>\n",
       "      <td>000d9be29b5207b54e86aa1b1ac54872</td>\n",
       "      <td>Tuesday</td>\n",
       "    </tr>\n",
       "    <tr>\n",
       "      <th>...</th>\n",
       "      <td>...</td>\n",
       "      <td>...</td>\n",
       "    </tr>\n",
       "    <tr>\n",
       "      <th>32946</th>\n",
       "      <td>fff6177642830a9a94a0f2cba5e476d1</td>\n",
       "      <td>[Saturday, Sunday]</td>\n",
       "    </tr>\n",
       "    <tr>\n",
       "      <th>32947</th>\n",
       "      <td>fff81cc3158d2725c0655ab9ba0f712c</td>\n",
       "      <td>Monday</td>\n",
       "    </tr>\n",
       "    <tr>\n",
       "      <th>32948</th>\n",
       "      <td>fff9553ac224cec9d15d49f5a263411f</td>\n",
       "      <td>Friday</td>\n",
       "    </tr>\n",
       "    <tr>\n",
       "      <th>32949</th>\n",
       "      <td>fffdb2d0ec8d6a61f0a0a0db3f25b441</td>\n",
       "      <td>Tuesday</td>\n",
       "    </tr>\n",
       "    <tr>\n",
       "      <th>32950</th>\n",
       "      <td>fffe9eeff12fcbd74a2f2b007dde0c58</td>\n",
       "      <td>Wednesday</td>\n",
       "    </tr>\n",
       "  </tbody>\n",
       "</table>\n",
       "<p>32951 rows × 2 columns</p>\n",
       "</div>"
      ],
      "text/plain": [
       "                             product_id             week_day\n",
       "0      00066f42aeeb9f3007548bb9d3f33c38               Sunday\n",
       "1      00088930e925c41fd95ebfe695fd2655              Tuesday\n",
       "2      0009406fd7479715e4bef61dd91f2462             Thursday\n",
       "3      000b8f95fcb9e0096488278317764d19  [Friday, Wednesday]\n",
       "4      000d9be29b5207b54e86aa1b1ac54872              Tuesday\n",
       "...                                 ...                  ...\n",
       "32946  fff6177642830a9a94a0f2cba5e476d1   [Saturday, Sunday]\n",
       "32947  fff81cc3158d2725c0655ab9ba0f712c               Monday\n",
       "32948  fff9553ac224cec9d15d49f5a263411f               Friday\n",
       "32949  fffdb2d0ec8d6a61f0a0a0db3f25b441              Tuesday\n",
       "32950  fffe9eeff12fcbd74a2f2b007dde0c58            Wednesday\n",
       "\n",
       "[32951 rows x 2 columns]"
      ]
     },
     "execution_count": 55,
     "metadata": {},
     "output_type": "execute_result"
    }
   ],
   "source": [
    "items['week_day'] = items.order_purchase_timestamp.dt.day_name()\n",
    "prod_pop_day = items.groupby('product_id', as_index=False)\\\n",
    "    .agg({'week_day' : pd.Series.mode})\n",
    "prod_pop_day"
   ]
  },
  {
   "cell_type": "markdown",
   "id": "47277111",
   "metadata": {},
   "source": [
    "# Retention пользователей"
   ]
  },
  {
   "cell_type": "markdown",
   "id": "3d699ae8",
   "metadata": {},
   "source": [
    "## Создание датасета"
   ]
  },
  {
   "cell_type": "code",
   "execution_count": 5,
   "id": "f236fa92",
   "metadata": {},
   "outputs": [],
   "source": [
    "def make_df(df):\n",
    "    # собираем датасет нужных данных\n",
    "    profile = df\\\n",
    "    .groupby('customer_unique_id', as_index=False)\\\n",
    "    .agg({\n",
    "        'order_id' : 'first',\n",
    "        'order_status' : 'first',\n",
    "        'customer_state' : 'first',\n",
    "        'order_purchase_timestamp' : 'min'\n",
    "    })\\\n",
    "    .rename(columns={'order_purchase_timestamp' : 'first_purchase_ts'})\n",
    "    \n",
    "    # сделаем колонку order status флагом покупки\n",
    "    profile.order_status = profile.order_status.apply(\n",
    "        lambda x : 'not_delivered' if x != 'delivered' else x\n",
    "        )\n",
    "    # дата первой покупки\n",
    "    profile['first_purchase_dt'] = profile.first_purchase_ts.dt.date\n",
    "    profile['first_purchase_mn'] = profile.first_purchase_ts.astype('datetime64[M]')\n",
    "    # число новых пользователей \n",
    "    new_users = (\n",
    "        profile.groupby('first_purchase_mn', as_index=False)\n",
    "        .agg({'customer_unique_id': 'count'})\\\n",
    "        .rename(columns={'customer_unique_id' : 'customer_counts'})\n",
    "    )\n",
    "    \n",
    "    profile = profile.merge(new_users, on='first_purchase_mn')\n",
    "    return profile"
   ]
  },
  {
   "cell_type": "markdown",
   "id": "da943384",
   "metadata": {},
   "source": [
    "## Функция retention"
   ]
  },
  {
   "cell_type": "code",
   "execution_count": 6,
   "id": "6a66a22b",
   "metadata": {},
   "outputs": [],
   "source": [
    "def retention(profile, df, obs_date, horizon, dims=[]): \n",
    "    \n",
    "    # последняя первая покупка до начала анализа\n",
    "    last_date = pd.to_datetime(obs_date).date() - pd.Timedelta(horizon*31,'d')\n",
    "    obs_df = profile.query('first_purchase_dt <= @last_date')\n",
    "    \n",
    "    dfc = df.copy()\n",
    "    dfc['purchase_mn'] = dfc.order_purchase_timestamp.astype('datetime64[M]')\n",
    "    \n",
    "    # добавляем в результирующий датасет дату покупки\n",
    "    dfc = dfc.loc[:, ['customer_unique_id', 'purchase_mn']]\n",
    "    obs_df = obs_df.merge(dfc, on='customer_unique_id', how='left')\n",
    "    \n",
    "    #число месяцев после первой покупки\n",
    "    obs_df['period'] = (\n",
    "        obs_df['purchase_mn'].dt.to_period('M').astype(int)\\\n",
    "        - obs_df['first_purchase_mn'].dt.to_period('M').astype(int)\n",
    "    \n",
    "    )\n",
    "    def cohorts_retention(df, dims, horizon):\n",
    "        # число покупок по когортам и периодам после первой покупки\n",
    "        res = df.pivot_table(\n",
    "            index=dims, columns='period', values='customer_unique_id', aggfunc='nunique'\n",
    "        )\n",
    "        # общее число покупов в когорте\n",
    "        cohort_sizes = (\n",
    "            df.groupby(dims)\n",
    "            .agg({'customer_unique_id': 'nunique'})\n",
    "            .rename(columns={'customer_unique_id': 'cohort_size'})\n",
    "        )\n",
    "        res = cohort_sizes.merge(res, on=dims, how='left').fillna(0)\n",
    "        # считаем retention\n",
    "        res = res.div(res['cohort_size'], axis=0)\n",
    "        res = res[['cohort_size'] + list(range(horizon))]\n",
    "        res.drop(columns='cohort_size', inplace=True)\n",
    "        #result['cohort_size'] = cohort_sizes\n",
    "        #result = result.style.format(\"{:.2%}\", subset=list(range(horizon)))\n",
    "        return res\n",
    "\n",
    "    # когорты по датам первой покупки\n",
    "    cohort_data = cohorts_retention(obs_df, dims, horizon)\n",
    "    times_cohort_data = cohorts_retention(obs_df, dims + ['first_purchase_mn'], horizon)\n",
    "\n",
    "    return obs_df, cohort_data, times_cohort_data"
   ]
  },
  {
   "cell_type": "markdown",
   "id": "8723742e",
   "metadata": {},
   "source": [
    "## Подсчет retention"
   ]
  },
  {
   "cell_type": "code",
   "execution_count": 7,
   "id": "6c3c739b",
   "metadata": {},
   "outputs": [],
   "source": [
    "customer_orders = orders.merge(customers, on='customer_id')\n",
    "profile = make_df(customer_orders)\n",
    "customer_orders['purchase_mn'] = customer_orders.order_purchase_timestamp.astype('datetime64[M]')"
   ]
  },
  {
   "cell_type": "code",
   "execution_count": 442,
   "id": "e7d14e67",
   "metadata": {},
   "outputs": [
    {
     "data": {
      "text/plain": [
       "Timestamp('2018-11-12 00:00:00')"
      ]
     },
     "execution_count": 442,
     "metadata": {},
     "output_type": "execute_result"
    }
   ],
   "source": [
    "customer_orders.order_estimated_delivery_date.max()"
   ]
  },
  {
   "cell_type": "markdown",
   "id": "825b3203",
   "metadata": {},
   "source": [
    "Определим как дату начала исследования последнюю дату покупки, и будем смотреть на retention на 6-ой месяц"
   ]
  },
  {
   "cell_type": "code",
   "execution_count": 443,
   "id": "53bb9ce2",
   "metadata": {},
   "outputs": [],
   "source": [
    "obs_date = '2018-12-01'\n",
    "horizon = 6"
   ]
  },
  {
   "cell_type": "code",
   "execution_count": 491,
   "id": "10f2e8e1",
   "metadata": {},
   "outputs": [
    {
     "data": {
      "image/png": "[encoded data removed]",
      "text/plain": [
       "<Figure size 1500x1000 with 2 Axes>"
      ]
     },
     "metadata": {},
     "output_type": "display_data"
    }
   ],
   "source": [
    "dims = ['order_status']\n",
    "data, ret, ret_time = retention(profile, customer_orders, obs_date, horizon, dims)\n",
    "\n",
    "plt.figure(figsize=(15,10))\n",
    "\n",
    "ax1 = plt.subplot(2,2,1)\n",
    "sns.lineplot(ret.iloc[0, 1:], label='delivered', ax=ax1);\n",
    "sns.lineplot(ret.iloc[1, 1:], label='not_delivered', ax=ax1);\n",
    "plt.title(f'retention по месяцам ')\n",
    "plt.ylabel('')\n",
    "plt.xlabel('Период после первой покупки');\n",
    "plt.xticks(list(ret.columns[1:]));\n",
    "\n",
    "ax2 = plt.subplot(2,2,2)\n",
    "sns.lineplot(data=ret_time, x='first_purchase_mn', y=horizon - 1, hue='order_status', ax=ax2);\n",
    "plt.title(f'retention на {horizon}-й месяц');\n",
    "plt.xlabel('Дата первой покупки');\n",
    "plt.ylabel('')\n",
    "plt.legend()\n",
    "ax2.tick_params(axis='x', rotation=45)"
   ]
  },
  {
   "cell_type": "markdown",
   "id": "72a233b6",
   "metadata": {},
   "source": [
    "Выше всего показатель возврата на 6-ий месяц среди пользователей сделавших успешную покупку первую покупку в августе 2018 года "
   ]
  },
  {
   "cell_type": "markdown",
   "id": "c361a208",
   "metadata": {},
   "source": [
    "## Качество клиентов"
   ]
  },
  {
   "cell_type": "markdown",
   "id": "09f23030",
   "metadata": {},
   "source": [
    "Посотрим на число клиентов разной ценности. Ценность клиента определим по RFM-score"
   ]
  },
  {
   "cell_type": "code",
   "execution_count": 8,
   "id": "8587a20b",
   "metadata": {},
   "outputs": [
    {
     "data": {
      "text/html": [
       "<div>\n",
       "<style scoped>\n",
       "    .dataframe tbody tr th:only-of-type {\n",
       "        vertical-align: middle;\n",
       "    }\n",
       "\n",
       "    .dataframe tbody tr th {\n",
       "        vertical-align: top;\n",
       "    }\n",
       "\n",
       "    .dataframe thead th {\n",
       "        text-align: right;\n",
       "    }\n",
       "</style>\n",
       "<table border=\"1\" class=\"dataframe\">\n",
       "  <thead>\n",
       "    <tr style=\"text-align: right;\">\n",
       "      <th></th>\n",
       "      <th>customer_unique_id</th>\n",
       "      <th>order_id</th>\n",
       "      <th>order_status</th>\n",
       "      <th>order_purchase_timestamp</th>\n",
       "      <th>purchase_mn</th>\n",
       "      <th>price</th>\n",
       "    </tr>\n",
       "  </thead>\n",
       "  <tbody>\n",
       "    <tr>\n",
       "      <th>0</th>\n",
       "      <td>7c396fd4830fd04220f754e42b4e5bff</td>\n",
       "      <td>e481f51cbdc54678b7cc49136f2d6af7</td>\n",
       "      <td>delivered</td>\n",
       "      <td>2017-10-02 10:56:33</td>\n",
       "      <td>2017-10-01</td>\n",
       "      <td>29.99</td>\n",
       "    </tr>\n",
       "    <tr>\n",
       "      <th>1</th>\n",
       "      <td>af07308b275d755c9edb36a90c618231</td>\n",
       "      <td>53cdb2fc8bc7dce0b6741e2150273451</td>\n",
       "      <td>delivered</td>\n",
       "      <td>2018-07-24 20:41:37</td>\n",
       "      <td>2018-07-01</td>\n",
       "      <td>118.70</td>\n",
       "    </tr>\n",
       "    <tr>\n",
       "      <th>2</th>\n",
       "      <td>3a653a41f6f9fc3d2a113cf8398680e8</td>\n",
       "      <td>47770eb9100c2d0c44946d9cf07ec65d</td>\n",
       "      <td>delivered</td>\n",
       "      <td>2018-08-08 08:38:49</td>\n",
       "      <td>2018-08-01</td>\n",
       "      <td>159.90</td>\n",
       "    </tr>\n",
       "    <tr>\n",
       "      <th>3</th>\n",
       "      <td>7c142cf63193a1473d2e66489a9ae977</td>\n",
       "      <td>949d5b44dbf5de918fe9c16f97b45f8a</td>\n",
       "      <td>delivered</td>\n",
       "      <td>2017-11-18 19:28:06</td>\n",
       "      <td>2017-11-01</td>\n",
       "      <td>45.00</td>\n",
       "    </tr>\n",
       "    <tr>\n",
       "      <th>4</th>\n",
       "      <td>72632f0f9dd73dfee390c9b22eb56dd6</td>\n",
       "      <td>ad21c59c0840e6cb83a9ceb5573f8159</td>\n",
       "      <td>delivered</td>\n",
       "      <td>2018-02-13 21:18:39</td>\n",
       "      <td>2018-02-01</td>\n",
       "      <td>19.90</td>\n",
       "    </tr>\n",
       "  </tbody>\n",
       "</table>\n",
       "</div>"
      ],
      "text/plain": [
       "                 customer_unique_id                          order_id  \\\n",
       "0  7c396fd4830fd04220f754e42b4e5bff  e481f51cbdc54678b7cc49136f2d6af7   \n",
       "1  af07308b275d755c9edb36a90c618231  53cdb2fc8bc7dce0b6741e2150273451   \n",
       "2  3a653a41f6f9fc3d2a113cf8398680e8  47770eb9100c2d0c44946d9cf07ec65d   \n",
       "3  7c142cf63193a1473d2e66489a9ae977  949d5b44dbf5de918fe9c16f97b45f8a   \n",
       "4  72632f0f9dd73dfee390c9b22eb56dd6  ad21c59c0840e6cb83a9ceb5573f8159   \n",
       "\n",
       "  order_status order_purchase_timestamp purchase_mn   price  \n",
       "0    delivered      2017-10-02 10:56:33  2017-10-01   29.99  \n",
       "1    delivered      2018-07-24 20:41:37  2018-07-01  118.70  \n",
       "2    delivered      2018-08-08 08:38:49  2018-08-01  159.90  \n",
       "3    delivered      2017-11-18 19:28:06  2017-11-01   45.00  \n",
       "4    delivered      2018-02-13 21:18:39  2018-02-01   19.90  "
      ]
     },
     "execution_count": 8,
     "metadata": {},
     "output_type": "execute_result"
    }
   ],
   "source": [
    "df = customer_orders.merge(order_items, on='order_id')\\\n",
    "    .loc[:, ['customer_unique_id',\n",
    "             'order_id',\n",
    "             'order_status',\n",
    "             'order_purchase_timestamp',\n",
    "             'purchase_mn',\n",
    "             'price']]\n",
    "df.head()"
   ]
  },
  {
   "cell_type": "code",
   "execution_count": 9,
   "id": "d1c20ca5",
   "metadata": {},
   "outputs": [
    {
     "data": {
      "text/html": [
       "<div>\n",
       "<style scoped>\n",
       "    .dataframe tbody tr th:only-of-type {\n",
       "        vertical-align: middle;\n",
       "    }\n",
       "\n",
       "    .dataframe tbody tr th {\n",
       "        vertical-align: top;\n",
       "    }\n",
       "\n",
       "    .dataframe thead th {\n",
       "        text-align: right;\n",
       "    }\n",
       "</style>\n",
       "<table border=\"1\" class=\"dataframe\">\n",
       "  <thead>\n",
       "    <tr style=\"text-align: right;\">\n",
       "      <th></th>\n",
       "      <th>purchase_mn</th>\n",
       "      <th>customer_unique_id</th>\n",
       "    </tr>\n",
       "  </thead>\n",
       "  <tbody>\n",
       "    <tr>\n",
       "      <th>23</th>\n",
       "      <td>2018-09-01</td>\n",
       "      <td>1</td>\n",
       "    </tr>\n",
       "    <tr>\n",
       "      <th>22</th>\n",
       "      <td>2018-08-01</td>\n",
       "      <td>6411</td>\n",
       "    </tr>\n",
       "    <tr>\n",
       "      <th>21</th>\n",
       "      <td>2018-07-01</td>\n",
       "      <td>6211</td>\n",
       "    </tr>\n",
       "    <tr>\n",
       "      <th>20</th>\n",
       "      <td>2018-06-01</td>\n",
       "      <td>6121</td>\n",
       "    </tr>\n",
       "    <tr>\n",
       "      <th>19</th>\n",
       "      <td>2018-05-01</td>\n",
       "      <td>6795</td>\n",
       "    </tr>\n",
       "    <tr>\n",
       "      <th>18</th>\n",
       "      <td>2018-04-01</td>\n",
       "      <td>6878</td>\n",
       "    </tr>\n",
       "    <tr>\n",
       "      <th>17</th>\n",
       "      <td>2018-03-01</td>\n",
       "      <td>7096</td>\n",
       "    </tr>\n",
       "    <tr>\n",
       "      <th>16</th>\n",
       "      <td>2018-02-01</td>\n",
       "      <td>6537</td>\n",
       "    </tr>\n",
       "    <tr>\n",
       "      <th>15</th>\n",
       "      <td>2018-01-01</td>\n",
       "      <td>7120</td>\n",
       "    </tr>\n",
       "    <tr>\n",
       "      <th>14</th>\n",
       "      <td>2017-12-01</td>\n",
       "      <td>5557</td>\n",
       "    </tr>\n",
       "    <tr>\n",
       "      <th>13</th>\n",
       "      <td>2017-11-01</td>\n",
       "      <td>7342</td>\n",
       "    </tr>\n",
       "    <tr>\n",
       "      <th>12</th>\n",
       "      <td>2017-10-01</td>\n",
       "      <td>4501</td>\n",
       "    </tr>\n",
       "    <tr>\n",
       "      <th>11</th>\n",
       "      <td>2017-09-01</td>\n",
       "      <td>4170</td>\n",
       "    </tr>\n",
       "  </tbody>\n",
       "</table>\n",
       "</div>"
      ],
      "text/plain": [
       "   purchase_mn  customer_unique_id\n",
       "23  2018-09-01                   1\n",
       "22  2018-08-01                6411\n",
       "21  2018-07-01                6211\n",
       "20  2018-06-01                6121\n",
       "19  2018-05-01                6795\n",
       "18  2018-04-01                6878\n",
       "17  2018-03-01                7096\n",
       "16  2018-02-01                6537\n",
       "15  2018-01-01                7120\n",
       "14  2017-12-01                5557\n",
       "13  2017-11-01                7342\n",
       "12  2017-10-01                4501\n",
       "11  2017-09-01                4170"
      ]
     },
     "execution_count": 9,
     "metadata": {},
     "output_type": "execute_result"
    }
   ],
   "source": [
    "df.groupby('purchase_mn', as_index=False)\\\n",
    "    .agg({'customer_unique_id' : 'nunique'})\\\n",
    "    .sort_values(by='purchase_mn', ascending=False).head(13)"
   ]
  },
  {
   "cell_type": "code",
   "execution_count": 10,
   "id": "029b6b2d",
   "metadata": {},
   "outputs": [
    {
     "data": {
      "text/plain": [
       "Timestamp('2018-09-03 09:06:57')"
      ]
     },
     "execution_count": 10,
     "metadata": {},
     "output_type": "execute_result"
    }
   ],
   "source": [
    "df.order_purchase_timestamp.max()"
   ]
  },
  {
   "cell_type": "markdown",
   "id": "a2f8bdd4",
   "metadata": {},
   "source": [
    "**Последняя дата покупки сделана за сентябрь, но месяц неполный. Будем считать метрику за год от июля 2018 года**"
   ]
  },
  {
   "cell_type": "code",
   "execution_count": 11,
   "id": "ba81feab",
   "metadata": {},
   "outputs": [],
   "source": [
    "last_month = '2018-08-01'\n",
    "first_month = '2017-09-01'"
   ]
  },
  {
   "cell_type": "code",
   "execution_count": 12,
   "id": "5b2dc7f6",
   "metadata": {},
   "outputs": [],
   "source": [
    "df = df.query('@first_month <= purchase_mn < @last_month')"
   ]
  },
  {
   "cell_type": "code",
   "execution_count": 13,
   "id": "e4fe966e",
   "metadata": {},
   "outputs": [],
   "source": [
    "df1 = df.groupby('customer_unique_id', as_index=False)\\\n",
    "    .agg({'price' : 'sum'})\\\n",
    "    .rename(columns={'price' : 'revenue'})\\\n",
    "    .sort_values(by='revenue', ascending=False)"
   ]
  },
  {
   "cell_type": "code",
   "execution_count": 14,
   "id": "06effb12",
   "metadata": {},
   "outputs": [
    {
     "data": {
      "image/png": "[encoded data removed]",
      "text/plain": [
       "<Figure size 1000x500 with 1 Axes>"
      ]
     },
     "metadata": {},
     "output_type": "display_data"
    }
   ],
   "source": [
    "df1.revenue.plot.hist();"
   ]
  },
  {
   "cell_type": "markdown",
   "id": "b75d0086",
   "metadata": {},
   "source": [
    "Видны сильные выбросы в выручке, так что разобьем обычных клиентов и сверхбогатых на две группы"
   ]
  },
  {
   "cell_type": "code",
   "execution_count": 15,
   "id": "17873ffa",
   "metadata": {},
   "outputs": [
    {
     "data": {
      "text/plain": [
       "89.9"
      ]
     },
     "execution_count": 15,
     "metadata": {},
     "output_type": "execute_result"
    }
   ],
   "source": [
    "df1.revenue.median()"
   ]
  },
  {
   "cell_type": "code",
   "execution_count": 28,
   "id": "f2c3c101",
   "metadata": {},
   "outputs": [],
   "source": [
    "df['purchase_date'] = df.order_purchase_timestamp.dt.date\n",
    "\n",
    "rfm_df = df.groupby('customer_unique_id', as_index=False)\\\n",
    "    .agg({'purchase_date' : 'max',\n",
    "        'price' : 'sum', 'order_id' : 'count'})\\\n",
    "    .rename(columns={'order_purchase_timestamp' : 'last_purchase', \n",
    "                    'price' : 'monetary',\n",
    "                    'order_id' : 'frequency'})\n",
    "rfm_df['recency'] = rfm_df.purchase_date.apply(lambda x : abs(x - datetime.strptime(last_month, '%Y-%m-%d').date()).days)\n",
    "\n",
    "rfm_df_s = rfm_df.query('monetary <= 1000').copy()\n",
    "rfm_df_m = rfm_df.query('1000 < monetary').copy()"
   ]
  },
  {
   "cell_type": "code",
   "execution_count": 17,
   "id": "dfcb18bf",
   "metadata": {},
   "outputs": [
    {
     "data": {
      "image/png": "[encoded data removed]",
      "text/plain": [
       "<Figure size 2000x500 with 3 Axes>"
      ]
     },
     "metadata": {},
     "output_type": "display_data"
    }
   ],
   "source": [
    "fig, ax = plt.subplots(1,3, figsize=(20,5))\n",
    "sns.histplot(rfm_df_s.recency, ax=ax[0]);\n",
    "sns.histplot(rfm_df_s.monetary, ax=ax[1]);\n",
    "sns.histplot(rfm_df_s.frequency, ax=ax[2]);\n",
    "fig.suptitle('Показатели метрик для малой группы');"
   ]
  },
  {
   "cell_type": "code",
   "execution_count": 18,
   "id": "a7d9ec2e",
   "metadata": {},
   "outputs": [
    {
     "data": {
      "image/png": "[encoded data removed]",
      "text/plain": [
       "<Figure size 2000x500 with 3 Axes>"
      ]
     },
     "metadata": {},
     "output_type": "display_data"
    }
   ],
   "source": [
    "fig, ax = plt.subplots(1,3, figsize=(20,5))\n",
    "sns.histplot(rfm_df_m.recency, ax=ax[0]);\n",
    "sns.histplot(rfm_df_m.monetary, ax=ax[1]);\n",
    "sns.histplot(rfm_df_m.frequency, ax=ax[2]);\n",
    "fig.suptitle('Показатели метрик для большой группы');"
   ]
  },
  {
   "cell_type": "markdown",
   "id": "d34175bd",
   "metadata": {},
   "source": [
    "Посчитаем RFM-score по 4-х ранговой системе. Заметим, что дискретизация показателя frequency будет работать плохо из-за большого числа повторов, поэтому для нее напишем свою функцию дискретизации"
   ]
  },
  {
   "cell_type": "code",
   "execution_count": 69,
   "id": "cd22f947",
   "metadata": {},
   "outputs": [
    {
     "data": {
      "text/plain": [
       "1     58651\n",
       "2      6088\n",
       "3      1151\n",
       "4       403\n",
       "5       173\n",
       "6       136\n",
       "7        28\n",
       "8        11\n",
       "9         8\n",
       "12        7\n",
       "11        5\n",
       "10        3\n",
       "14        2\n",
       "13        2\n",
       "Name: frequency, dtype: int64"
      ]
     },
     "execution_count": 69,
     "metadata": {},
     "output_type": "execute_result"
    }
   ],
   "source": [
    "rfm_df_s.frequency.value_counts()"
   ]
  },
  {
   "cell_type": "code",
   "execution_count": 59,
   "id": "8c792450",
   "metadata": {},
   "outputs": [],
   "source": [
    "def get_frequency(x):\n",
    "    if x == 1:\n",
    "        return 1\n",
    "    if x == 2:\n",
    "        return 2\n",
    "    if x in (3,4,5,6):\n",
    "        return 3\n",
    "    return 4"
   ]
  },
  {
   "cell_type": "code",
   "execution_count": 74,
   "id": "5873c8da",
   "metadata": {},
   "outputs": [],
   "source": [
    "rfm_df_s['r'] = 5 - (pd.qcut(rfm_df_s.recency, 4, labels=False) + 1)\n",
    "rfm_df_s['f'] = rfm_df_s.frequency.apply(get_frequency)\n",
    "rfm_df_s['m'] = (pd.qcut(rfm_df_s.monetary, 4, labels=False) + 1)\n",
    "rfm_df_s['RFM_score'] = (rfm_df_s.r + rfm_df_s.f + rfm_df_s.m)"
   ]
  },
  {
   "cell_type": "markdown",
   "id": "450d754a",
   "metadata": {},
   "source": [
    "Проведем сегментацию"
   ]
  },
  {
   "cell_type": "code",
   "execution_count": 79,
   "id": "261aff3a",
   "metadata": {},
   "outputs": [],
   "source": [
    "def rfm_level(df):\n",
    "    if df['RFM_score'] >= 9:\n",
    "        return 'Can\\'t Loose Them'\n",
    "    elif ((df['RFM_score'] >= 8) and (df['RFM_score'] < 9)):\n",
    "        return 'Champions'\n",
    "    elif ((df['RFM_score'] >= 7) and (df['RFM_score'] < 8)):\n",
    "        return 'Loyal'\n",
    "    elif ((df['RFM_score'] >= 6) and (df['RFM_score'] < 7)):\n",
    "        return 'Potential'\n",
    "    elif ((df['RFM_score'] >= 5) and (df['RFM_score'] < 6)):\n",
    "        return 'Promising'\n",
    "    elif ((df['RFM_score'] >= 4) and (df['RFM_score'] < 5)):\n",
    "        return 'Needs Attention'\n",
    "    else:\n",
    "        return 'Require Activation'"
   ]
  },
  {
   "cell_type": "code",
   "execution_count": 110,
   "id": "3d326815",
   "metadata": {},
   "outputs": [
    {
     "data": {
      "text/html": [
       "<div>\n",
       "<style scoped>\n",
       "    .dataframe tbody tr th:only-of-type {\n",
       "        vertical-align: middle;\n",
       "    }\n",
       "\n",
       "    .dataframe tbody tr th {\n",
       "        vertical-align: top;\n",
       "    }\n",
       "\n",
       "    .dataframe thead th {\n",
       "        text-align: right;\n",
       "    }\n",
       "</style>\n",
       "<table border=\"1\" class=\"dataframe\">\n",
       "  <thead>\n",
       "    <tr style=\"text-align: right;\">\n",
       "      <th></th>\n",
       "      <th>customer_unique_id</th>\n",
       "      <th>purchase_date</th>\n",
       "      <th>monetary</th>\n",
       "      <th>frequency</th>\n",
       "      <th>recency</th>\n",
       "      <th>r</th>\n",
       "      <th>f</th>\n",
       "      <th>m</th>\n",
       "      <th>rfm_score</th>\n",
       "      <th>RFM_score</th>\n",
       "      <th>segment</th>\n",
       "    </tr>\n",
       "  </thead>\n",
       "  <tbody>\n",
       "    <tr>\n",
       "      <th>0</th>\n",
       "      <td>0000366f3b9a7992bf8c76cfdf3221e2</td>\n",
       "      <td>2018-05-10</td>\n",
       "      <td>129.90</td>\n",
       "      <td>1</td>\n",
       "      <td>83</td>\n",
       "      <td>4</td>\n",
       "      <td>1</td>\n",
       "      <td>3</td>\n",
       "      <td>8</td>\n",
       "      <td>8</td>\n",
       "      <td>Champions</td>\n",
       "    </tr>\n",
       "    <tr>\n",
       "      <th>1</th>\n",
       "      <td>0000b849f77a49e4a4ce2b2a4ca5be3f</td>\n",
       "      <td>2018-05-07</td>\n",
       "      <td>18.90</td>\n",
       "      <td>1</td>\n",
       "      <td>86</td>\n",
       "      <td>3</td>\n",
       "      <td>1</td>\n",
       "      <td>1</td>\n",
       "      <td>5</td>\n",
       "      <td>5</td>\n",
       "      <td>Promising</td>\n",
       "    </tr>\n",
       "    <tr>\n",
       "      <th>2</th>\n",
       "      <td>0000f6ccb0745a6a4b88665a16c9f078</td>\n",
       "      <td>2017-10-12</td>\n",
       "      <td>25.99</td>\n",
       "      <td>1</td>\n",
       "      <td>293</td>\n",
       "      <td>1</td>\n",
       "      <td>1</td>\n",
       "      <td>1</td>\n",
       "      <td>3</td>\n",
       "      <td>3</td>\n",
       "      <td>Require Activation</td>\n",
       "    </tr>\n",
       "    <tr>\n",
       "      <th>3</th>\n",
       "      <td>0004aac84e0df4da2b147fca70cf8255</td>\n",
       "      <td>2017-11-14</td>\n",
       "      <td>180.00</td>\n",
       "      <td>1</td>\n",
       "      <td>260</td>\n",
       "      <td>1</td>\n",
       "      <td>1</td>\n",
       "      <td>4</td>\n",
       "      <td>6</td>\n",
       "      <td>6</td>\n",
       "      <td>Potential</td>\n",
       "    </tr>\n",
       "    <tr>\n",
       "      <th>4</th>\n",
       "      <td>0004bd2a26a76fe21f786e4fbd80607f</td>\n",
       "      <td>2018-04-05</td>\n",
       "      <td>154.00</td>\n",
       "      <td>1</td>\n",
       "      <td>118</td>\n",
       "      <td>3</td>\n",
       "      <td>1</td>\n",
       "      <td>4</td>\n",
       "      <td>8</td>\n",
       "      <td>8</td>\n",
       "      <td>Champions</td>\n",
       "    </tr>\n",
       "  </tbody>\n",
       "</table>\n",
       "</div>"
      ],
      "text/plain": [
       "                 customer_unique_id purchase_date  monetary  frequency  \\\n",
       "0  0000366f3b9a7992bf8c76cfdf3221e2    2018-05-10    129.90          1   \n",
       "1  0000b849f77a49e4a4ce2b2a4ca5be3f    2018-05-07     18.90          1   \n",
       "2  0000f6ccb0745a6a4b88665a16c9f078    2017-10-12     25.99          1   \n",
       "3  0004aac84e0df4da2b147fca70cf8255    2017-11-14    180.00          1   \n",
       "4  0004bd2a26a76fe21f786e4fbd80607f    2018-04-05    154.00          1   \n",
       "\n",
       "   recency  r  f  m  rfm_score  RFM_score             segment  \n",
       "0       83  4  1  3          8          8           Champions  \n",
       "1       86  3  1  1          5          5           Promising  \n",
       "2      293  1  1  1          3          3  Require Activation  \n",
       "3      260  1  1  4          6          6           Potential  \n",
       "4      118  3  1  4          8          8           Champions  "
      ]
     },
     "execution_count": 110,
     "metadata": {},
     "output_type": "execute_result"
    }
   ],
   "source": [
    "rfm_df_s['segment'] = rfm_df_s.apply(rfm_level,axis=1)\n",
    "rfm_df_s.head()"
   ]
  },
  {
   "cell_type": "markdown",
   "id": "d4742823",
   "metadata": {},
   "source": [
    "**Число пользователей разных сегментов**"
   ]
  },
  {
   "cell_type": "code",
   "execution_count": 109,
   "id": "5c832c86",
   "metadata": {},
   "outputs": [
    {
     "data": {
      "text/html": [
       "<div>\n",
       "<style scoped>\n",
       "    .dataframe tbody tr th:only-of-type {\n",
       "        vertical-align: middle;\n",
       "    }\n",
       "\n",
       "    .dataframe tbody tr th {\n",
       "        vertical-align: top;\n",
       "    }\n",
       "\n",
       "    .dataframe thead th {\n",
       "        text-align: right;\n",
       "    }\n",
       "</style>\n",
       "<table border=\"1\" class=\"dataframe\">\n",
       "  <thead>\n",
       "    <tr style=\"text-align: right;\">\n",
       "      <th></th>\n",
       "      <th>segment</th>\n",
       "      <th>r_mean</th>\n",
       "      <th>f_mean</th>\n",
       "      <th>m_mean</th>\n",
       "      <th>count</th>\n",
       "    </tr>\n",
       "  </thead>\n",
       "  <tbody>\n",
       "    <tr>\n",
       "      <th>4</th>\n",
       "      <td>Potential</td>\n",
       "      <td>2.529709</td>\n",
       "      <td>1.065886</td>\n",
       "      <td>2.404405</td>\n",
       "      <td>15618</td>\n",
       "    </tr>\n",
       "    <tr>\n",
       "      <th>2</th>\n",
       "      <td>Loyal</td>\n",
       "      <td>2.910707</td>\n",
       "      <td>1.152421</td>\n",
       "      <td>2.936872</td>\n",
       "      <td>12039</td>\n",
       "    </tr>\n",
       "    <tr>\n",
       "      <th>5</th>\n",
       "      <td>Promising</td>\n",
       "      <td>2.010193</td>\n",
       "      <td>1.040601</td>\n",
       "      <td>1.949206</td>\n",
       "      <td>11773</td>\n",
       "    </tr>\n",
       "    <tr>\n",
       "      <th>1</th>\n",
       "      <td>Champions</td>\n",
       "      <td>3.319166</td>\n",
       "      <td>1.260962</td>\n",
       "      <td>3.419872</td>\n",
       "      <td>8917</td>\n",
       "    </tr>\n",
       "    <tr>\n",
       "      <th>3</th>\n",
       "      <td>Needs Attention</td>\n",
       "      <td>1.503258</td>\n",
       "      <td>1.016168</td>\n",
       "      <td>1.480574</td>\n",
       "      <td>8288</td>\n",
       "    </tr>\n",
       "    <tr>\n",
       "      <th>0</th>\n",
       "      <td>Can't Loose Them</td>\n",
       "      <td>3.737976</td>\n",
       "      <td>1.681619</td>\n",
       "      <td>3.876923</td>\n",
       "      <td>6175</td>\n",
       "    </tr>\n",
       "    <tr>\n",
       "      <th>6</th>\n",
       "      <td>Require Activation</td>\n",
       "      <td>1.000000</td>\n",
       "      <td>1.000000</td>\n",
       "      <td>1.000000</td>\n",
       "      <td>3858</td>\n",
       "    </tr>\n",
       "  </tbody>\n",
       "</table>\n",
       "</div>"
      ],
      "text/plain": [
       "              segment    r_mean    f_mean    m_mean  count\n",
       "4           Potential  2.529709  1.065886  2.404405  15618\n",
       "2               Loyal  2.910707  1.152421  2.936872  12039\n",
       "5           Promising  2.010193  1.040601  1.949206  11773\n",
       "1           Champions  3.319166  1.260962  3.419872   8917\n",
       "3     Needs Attention  1.503258  1.016168  1.480574   8288\n",
       "0    Can't Loose Them  3.737976  1.681619  3.876923   6175\n",
       "6  Require Activation  1.000000  1.000000  1.000000   3858"
      ]
     },
     "execution_count": 109,
     "metadata": {},
     "output_type": "execute_result"
    }
   ],
   "source": [
    "rfm_df_s.groupby('segment', as_index=False)\\\n",
    "    .agg({'r' : 'mean',\n",
    "          'f' : 'mean',\n",
    "          'm' : 'mean',\n",
    "          'RFM_score' : 'count'\n",
    "         })\\\n",
    "    .rename(columns={'r':'r_mean', 'f':'f_mean', 'm' : 'm_mean', 'RFM_score': 'count'})\\\n",
    "    .sort_values(by='count', ascending=False)"
   ]
  }
 ],
 "metadata": {
  "kernelspec": {
   "display_name": "Python 3 (ipykernel)",
   "language": "python",
   "name": "python3"
  },
  "language_info": {
   "codemirror_mode": {
    "name": "ipython",
    "version": 3
   },
   "file_extension": ".py",
   "mimetype": "text/x-python",
   "name": "python",
   "nbconvert_exporter": "python",
   "pygments_lexer": "ipython3",
   "version": "3.9.15"
  }
 },
 "nbformat": 4,
 "nbformat_minor": 5
}
